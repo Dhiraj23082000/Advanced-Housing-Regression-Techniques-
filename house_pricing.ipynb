{
 "cells": [
  {
   "cell_type": "code",
   "execution_count": 5,
   "metadata": {},
   "outputs": [],
   "source": [
    "import pandas as pd\n",
    "import  numpy as np\n",
    "import matplotlib.pyplot as plt\n",
    "\n"
   ]
  },
  {
   "cell_type": "code",
   "execution_count": 6,
   "metadata": {},
   "outputs": [],
   "source": [
    "\n",
    "train = pd.read_csv('train.csv')\n",
    "test = pd.read_csv('test.csv')"
   ]
  },
  {
   "cell_type": "code",
   "execution_count": 7,
   "metadata": {},
   "outputs": [],
   "source": [
    "data = train.append(test,sort=False)"
   ]
  },
  {
   "cell_type": "code",
   "execution_count": 8,
   "metadata": {},
   "outputs": [],
   "source": [
    "data = data.drop(['Alley','FireplaceQu','PoolQC','Fence','MiscFeature',],axis=1)"
   ]
  },
  {
   "cell_type": "code",
   "execution_count": 11,
   "metadata": {},
   "outputs": [],
   "source": [
    "#filling nan values with mean of respective columns\n",
    "data = data.fillna(data.mean())"
   ]
  },
  {
   "cell_type": "code",
   "execution_count": 13,
   "metadata": {},
   "outputs": [],
   "source": [
    "data = pd.get_dummies(data)"
   ]
  },
  {
   "cell_type": "code",
   "execution_count": 14,
   "metadata": {},
   "outputs": [],
   "source": [
    "covarianceMatrix = data.corr()\n",
    "listOfFeatures = [i for i in covarianceMatrix]\n",
    "dropfeatures = set()\n",
    "\n",
    "for i in range(len(listOfFeatures)):\n",
    "    for j in range(i+1,len(listOfFeatures)):\n",
    "        feature1 = listOfFeatures[i]\n",
    "        feature2 = listOfFeatures[j]\n",
    "        if(covarianceMatrix[feature1][feature2]>0.8):\n",
    "            dropfeatures.add(feature1)\n",
    "data = data.drop(dropfeatures,axis=1)\n",
    "\n"
   ]
  },
  {
   "cell_type": "code",
   "execution_count": 15,
   "metadata": {},
   "outputs": [],
   "source": [
    "nonCorrelatedWithOutput = [column for column in data if abs(data[column].corr(data[\"SalePrice\"])) < 0.045]\n",
    "data = data.drop(nonCorrelatedWithOutput, axis=1)"
   ]
  },
  {
   "cell_type": "code",
   "execution_count": 16,
   "metadata": {},
   "outputs": [],
   "source": [
    "newtrain = data.iloc[:1460]\n",
    "newtest = data.iloc[1460:]"
   ]
  },
  {
   "cell_type": "code",
   "execution_count": 25,
   "metadata": {},
   "outputs": [],
   "source": [
    "def outliers_iqr(ys):\n",
    "    quartile_1, quartile_3 = np.percentile(ys, [25, 75]) #Get 1st and 3rd quartiles (25% -> 75% of data will be kept)\n",
    "    iqr = quartile_3 - quartile_1\n",
    "    lower_bound = quartile_1 - (iqr * 1.5) #Get lower bound\n",
    "    upper_bound = quartile_3 + (iqr * 1.5) #Get upper bound\n",
    "    return np.where((ys > upper_bound) | (ys < lower_bound)) #Get outlier values\n",
    "\n",
    "#Third, we will drop the outlier values from the train set\n",
    "\n",
    "trainWithoutOutliers = newtrain #We can't change train while running through it\n",
    "outlierValuesList = []\n",
    "for column in newtrain:\n",
    "    outlierValueList = np.ndarray.tolist(outliers_iqr(newtrain[column])[0]) #outliers_iqr() returns an array\n",
    "    trainWithoutOutliers = newtrain.drop(outlierValuesList) #Drop outlier rows\n",
    "    \n",
    "trainWithoutOutliers = newtrain\n"
   ]
  },
  {
   "cell_type": "code",
   "execution_count": 51,
   "metadata": {},
   "outputs": [
    {
     "data": {
      "text/plain": [
       "Index(['MSSubClass', 'LotFrontage', 'LotArea', 'OverallQual', 'OverallCond',\n",
       "       'YearBuilt', 'YearRemodAdd', 'MasVnrArea', 'BsmtFinSF1', 'BsmtUnfSF',\n",
       "       ...\n",
       "       'GarageCond_Fa', 'GarageCond_TA', 'PavedDrive_N', 'PavedDrive_P',\n",
       "       'PavedDrive_Y', 'SaleType_COD', 'SaleType_WD', 'SaleCondition_Abnorml',\n",
       "       'SaleCondition_Normal', 'SaleCondition_Partial'],\n",
       "      dtype='object', length=144)"
      ]
     },
     "execution_count": 51,
     "metadata": {},
     "output_type": "execute_result"
    }
   ],
   "source": [
    "trainWithoutOutliers.columns"
   ]
  },
  {
   "cell_type": "code",
   "execution_count": 52,
   "metadata": {},
   "outputs": [
    {
     "data": {
      "text/plain": [
       "<matplotlib.axes._subplots.AxesSubplot at 0x18fa07e16d8>"
      ]
     },
     "execution_count": 52,
     "metadata": {},
     "output_type": "execute_result"
    },
    {
     "data": {
      "image/png": "[encoded data removed]",
      "text/plain": [
       "<Figure size 432x288 with 1 Axes>"
      ]
     },
     "metadata": {
      "needs_background": "light"
     },
     "output_type": "display_data"
    }
   ],
   "source": [
    "import seaborn as sns\n",
    "sns.boxplot(x=trainWithoutOutliers['BsmtFinSF1'])\n"
   ]
  },
  {
   "cell_type": "code",
   "execution_count": 54,
   "metadata": {},
   "outputs": [],
   "source": [
    "indexNames = trainWithoutOutliers[ trainWithoutOutliers['BsmtFinSF1'] >=3000 ].index\n",
    "trainWithoutOutliers.drop(indexNames , inplace=True)"
   ]
  },
  {
   "cell_type": "code",
   "execution_count": 55,
   "metadata": {},
   "outputs": [],
   "source": [
    "Y = np.log1p(trainWithoutOutliers[\"SalePrice\"])\n",
    "X = trainWithoutOutliers.drop(['SalePrice'],axis=1)\n"
   ]
  },
  {
   "cell_type": "code",
   "execution_count": 56,
   "metadata": {},
   "outputs": [],
   "source": [
    "from sklearn.model_selection import train_test_split\n",
    "X_train, X_test, Y_train, Y_test = train_test_split(X, Y, test_size=0.25, random_state=32)"
   ]
  },
  {
   "cell_type": "code",
   "execution_count": 57,
   "metadata": {},
   "outputs": [],
   "source": [
    "from sklearn.linear_model import LinearRegression\n",
    "from sklearn.neural_network import MLPRegressor\n",
    "from sklearn.neighbors import KNeighborsRegressor\n",
    "from sklearn.tree import DecisionTreeRegressor\n",
    "from sklearn.ensemble import GradientBoostingRegressor\n",
    "from sklearn.ensemble import RandomForestRegressor\n",
    "from sklearn import metrics \n",
    "from sklearn.metrics import r2_score"
   ]
  },
  {
   "cell_type": "code",
   "execution_count": 58,
   "metadata": {},
   "outputs": [],
   "source": [
    "models=[]\n",
    "\n",
    "models.append(('RFC',RandomForestRegressor()))\n",
    "\n",
    "models.append((\"GBC\",GradientBoostingRegressor()))"
   ]
  },
  {
   "cell_type": "code",
   "execution_count": 59,
   "metadata": {},
   "outputs": [
    {
     "name": "stderr",
     "output_type": "stream",
     "text": [
      "C:\\Users\\HP\\Anaconda3\\lib\\site-packages\\sklearn\\ensemble\\forest.py:246: FutureWarning: The default value of n_estimators will change from 10 in version 0.20 to 100 in 0.22.\n",
      "  \"10 in version 0.20 to 100 in 0.22.\", FutureWarning)\n"
     ]
    },
    {
     "name": "stdout",
     "output_type": "stream",
     "text": [
      "RFC: 0.024021 0.843131 \n",
      "GBC: 0.018198 0.881160 \n"
     ]
    }
   ],
   "source": [
    "names=[]\n",
    "for name,algo in models:\n",
    "    algo.fit(X_train,Y_train)\n",
    "    prediction= algo.predict(X_test)\n",
    "    a= metrics.mean_squared_error(Y_test,prediction)\n",
    "    b=r2_score(Y_test, prediction)\n",
    "    print(\"%s: %f %f \"%(name, a, b))"
   ]
  },
  {
   "cell_type": "code",
   "execution_count": 60,
   "metadata": {},
   "outputs": [],
   "source": [
    "#newtest = newtest.drop(\"SalePrice\", axis=1)"
   ]
  },
  {
   "cell_type": "code",
   "execution_count": 61,
   "metadata": {},
   "outputs": [],
   "source": [
    "rfc= GradientBoostingRegressor()\n",
    "rfc.fit(X_train,Y_train)\n",
    "pred = np.expm1(rfc.predict(newtest))\n",
    "\n"
   ]
  },
  {
   "cell_type": "code",
   "execution_count": 62,
   "metadata": {},
   "outputs": [],
   "source": [
    "sample = pd.read_csv('sample_submission.csv')"
   ]
  },
  {
   "cell_type": "code",
   "execution_count": 63,
   "metadata": {},
   "outputs": [],
   "source": [
    "sample['SalePrice'] = pred \n",
    "sample.to_csv(\"sample_submission.csv\", index=False)"
   ]
  },
  {
   "cell_type": "code",
   "execution_count": null,
   "metadata": {},
   "outputs": [],
   "source": []
  }
 ],
 "metadata": {
  "kernelspec": {
   "display_name": "Python 3",
   "language": "python",
   "name": "python3"
  },
  "language_info": {
   "codemirror_mode": {
    "name": "ipython",
    "version": 3
   },
   "file_extension": ".py",
   "mimetype": "text/x-python",
   "name": "python",
   "nbconvert_exporter": "python",
   "pygments_lexer": "ipython3",
   "version": "3.7.3"
  }
 },
 "nbformat": 4,
 "nbformat_minor": 2
}
